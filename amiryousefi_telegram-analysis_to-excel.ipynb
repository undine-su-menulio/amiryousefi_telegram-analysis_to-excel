{
 "cells": [
  {
   "cell_type": "code",
   "execution_count": null,
   "metadata": {},
   "outputs": [],
   "source": [
    "from tqdm import tqdm\n",
    "import pandas as pd\n",
    "import json\n",
    "\n",
    "with open('channel_messages.json', 'r') as f:\n",
    "    data = json.load(f)"
   ]
  },
  {
   "cell_type": "code",
   "execution_count": null,
   "metadata": {},
   "outputs": [],
   "source": [
    "stats = []\n",
    "for i in tqdm(data):\n",
    "    try:\n",
    "        msg_text = i['message']\n",
    "        if msg_text !='':\n",
    "            msg_id = i['id']\n",
    "            msg_date = i['date']\n",
    "            msg_author = i['post_author']\n",
    "            msg_views = i['views']\n",
    "            msg_fw = i['forwards']\n",
    "            msg_react = i['reactions']\n",
    "            all_reactions = []\n",
    "            if i['reactions'] is not None:\n",
    "                for every_reaction in i['reactions']['results']:\n",
    "                    msg_react_emo = every_reaction['reaction']['emoticon']\n",
    "                    msg_react_count = every_reaction['count']\n",
    "                    all_reactions.extend ([msg_react_emo, msg_react_count])\n",
    "            stats.append ([msg_id, msg_date, msg_author, msg_text, msg_views, msg_fw])\n",
    "            stats[-1].extend (all_reactions)\n",
    "    except:\n",
    "        print ('Error, probably a meaningless service post')\n",
    "        pass\n",
    "\n",
    "final_df.columns = ['post_id', 'date', 'author', 'message', 'views', 'forwards', \n",
    "             '1_react', '1_react_count', '2_react', '2_react_count', '3_react', '3_react_count'] \n",
    "# add more reactions if your json has them\n",
    "# our channel had max 3 reactions per post\n",
    "\n",
    "final_df = pd.DataFrame (stats)\n",
    "final_df"
   ]
  },
  {
   "cell_type": "code",
   "execution_count": null,
   "metadata": {},
   "outputs": [],
   "source": [
    "final_df.to_excel ('Final Channel Export.xlsx')"
   ]
  }
 ],
 "metadata": {
  "kernelspec": {
   "display_name": "Python 3",
   "language": "python",
   "name": "python3"
  },
  "language_info": {
   "codemirror_mode": {
    "name": "ipython",
    "version": 3
   },
   "file_extension": ".py",
   "mimetype": "text/x-python",
   "name": "python",
   "nbconvert_exporter": "python",
   "pygments_lexer": "ipython3",
   "version": "3.7.4"
  }
 },
 "nbformat": 4,
 "nbformat_minor": 2
}
